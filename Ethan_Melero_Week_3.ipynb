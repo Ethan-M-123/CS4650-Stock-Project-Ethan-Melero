{
  "nbformat": 4,
  "nbformat_minor": 0,
  "metadata": {
    "colab": {
      "name": "Ethan Melero Week 3.ipynb",
      "provenance": [],
      "collapsed_sections": []
    },
    "kernelspec": {
      "name": "python3",
      "display_name": "Python 3"
    },
    "language_info": {
      "name": "python"
    }
  },
  "cells": [
    {
      "cell_type": "markdown",
      "metadata": {
        "id": "XPqrBxSu3m6h"
      },
      "source": [
        "#Stock Exchange Week 3\n",
        "\n",
        "Tried expanding my scope a little more this time and used the pretty simple algorithm I created on much more stocks this week (but still only 3 trades). Though with the S&P 500 tanking as it is a lot of options I was looking at didnt seem too promising. (though the point of this is to experiment anyway...)\n",
        "\n",
        "TTWO: 2\n",
        "- Hammer\n",
        "- Area of value\n",
        "- Below 200MA\n",
        "- Volume is decreasing\n",
        "\n",
        "ZNGA: 2\n",
        "- Hammer\n",
        "- Area of Value\n",
        "- Below 200MA\n",
        "- Volume is decreasing\n",
        "\n",
        "SCPL: 1\n",
        "- Bearish\n",
        "- Area of Value\n",
        "- Below 200MA\n",
        "- Volume is decreasing\n",
        "\n",
        "PLTK: 2\n",
        "- Hammer\n",
        "- Area of Value\n",
        "- Below 200MA\n",
        "- Volume is decreasing\n",
        "\n",
        "SE: 2\n",
        "- Hammer\n",
        "- Area of Value\n",
        "- Below 200MA\n",
        "- Volume is decreasing\n",
        "\n",
        "LOGI: 2\n",
        "- Hammer?\n",
        "- Area of Value\n",
        "- Below 200MA\n",
        "- Volume is decreasing\n",
        "\n",
        "SONY: 2\n",
        "- No Entry Trigger...\n",
        "- Area of Value\n",
        "- Above 200MA\n",
        "- Volume is decreasing\n",
        "\n",
        "Since it seems everything is kind of crashing i'd figured for safety that some selling should take place this time around, so sold my stock in LOGI from last time since it seems to f me over the most, for the others however I'm trusting my algorithm to see if its worth selling or buying those. (for better or for worse)\n"
      ]
    },
    {
      "cell_type": "code",
      "metadata": {
        "id": "Ek9BBxt0ayby"
      },
      "source": [
        "!pip install yfinance"
      ],
      "execution_count": null,
      "outputs": []
    },
    {
      "cell_type": "markdown",
      "metadata": {
        "id": "lFgIrPeD49X9"
      },
      "source": [
        "Typical stuff here, just imported Yahoo Finance to gather up some data about the stocks I want to look at."
      ]
    },
    {
      "cell_type": "code",
      "metadata": {
        "id": "VZihyhJPaz7i"
      },
      "source": [
        "import yfinance as yf\n",
        "\n",
        "tickerStrings = ['LOGI', 'SE', 'SONY', 'TTWO', 'ZNGA', 'SCPL', 'PLTK']\n",
        "\n",
        "df_list = list()\n",
        "for ticker in tickerStrings:\n",
        "    temp = yf.Ticker(ticker)\n",
        "    data = temp.info\n",
        "    data['ticker'] = ticker\n",
        "    df_list.append(data)"
      ],
      "execution_count": 31,
      "outputs": []
    },
    {
      "cell_type": "markdown",
      "metadata": {
        "id": "wopElNhW5KoJ"
      },
      "source": [
        "In this case i've found 3 new stocks to look at:\n",
        "\n",
        "ZNGA - Zynga: an old mobile game development company\n",
        "\n",
        "SCPL - Sci Play: another mobile dev co, but a bit more successful than ZNGA\n",
        "\n",
        "PLTK - Playtika Holding: an israel based mobile dev co.\n",
        "\n",
        "(there are a lot of mobile development companies...)"
      ]
    },
    {
      "cell_type": "code",
      "metadata": {
        "id": "3sOn_szoa7tv"
      },
      "source": [
        "data = list()\n",
        "\n",
        "for i, page in enumerate(df_list):\n",
        "  d = list()\n",
        "  d.append(page['ticker'])\n",
        "  d.append(page['beta'])\n",
        "  d.append(page['freeCashflow'])\n",
        "  d.append(page['recommendationKey'])\n",
        "  d.append(page['volume'])\n",
        "  d.append(page['twoHundredDayAverage'])\n",
        "  d.append(page['ask'])\n",
        "  d.append(page['bookValue'])\n",
        "  d.append(page['currentRatio'])\n",
        "  d.append(page['currentPrice'])\n",
        "  d.append(page['recommendationMean'])\n",
        "  d.append(page['ebitda'])\n",
        "  data.append(d)\n",
        "\n",
        "print(data)"
      ],
      "execution_count": null,
      "outputs": []
    },
    {
      "cell_type": "markdown",
      "metadata": {
        "id": "f0dBrPRN8gaH"
      },
      "source": [
        "In terms of the algorithm, i wanted to update a little since id mostly attribute the losses to myself and not the algorithm since with proper attention it could've been avoided.\n",
        "\n",
        "Therefore I added the `ebitda` data field, it is an abreviation of Earnings Before Interest, Taxes, Depreciation, and Amortization. Apparently an value above 10 is considered good."
      ]
    },
    {
      "cell_type": "code",
      "metadata": {
        "id": "lhFgJIxZa-kz"
      },
      "source": [
        "import csv\n",
        "details = ['ticker', 'beta', 'freeCashflow', 'recommendationKey', 'volume', 'twoHundredDayAverage', 'ask', 'bookValue', 'currentRatio', 'currentPrice', 'recommendationMean', 'ebitda']\n",
        "with open('mycsvfile.csv','w') as f:\n",
        "    w = csv.writer(f)\n",
        "    w.writerow(details)\n",
        "    w.writerows(data)"
      ],
      "execution_count": 36,
      "outputs": []
    },
    {
      "cell_type": "markdown",
      "metadata": {
        "id": "j0_EGZmR9llC"
      },
      "source": [
        "This is what my Excel sheet ended up looking like, with the new companies I wanted to look at and the 3 old ones.\n",
        "\n",
        "|ticker|beta|freeCashflow|recommendationKey|volume|twoHundredDayAverage|ask|bookValue|currentRatio|currentPrice|recommendationMean|ebitda|decisionFactor|visuals|Total|\n",
        "|-|-|-|-|-|-|-|-|-|-|-|-|-|-|-|\n",
        "|SONY|0.68079|2746315964416|strong_buy|438849|106.51265|119.44|5703.629|0.615|119.252|1.2|1474399961088|4|3|7|\n",
        "|ZNGA|0.078961|784548480|buy|21067377|9.31885|5.94|2.733|1.254|5.965|1.8|753699968|4|3|7|\n",
        "|TTWO|0.607272|441528864|buy|756619|171.70454|164.55|31.767|1.653|165.04|2.1|847369984|4|3|7|\n",
        "|LOGI|0.677966|483645888|buy|397371|104.81255|77.64|13.486|2.087|77.69|2.3|1225506944|4|3|7|\n",
        "|SCPL|0.261467|132087504|hold|229671|17.802275|14.72|3.922|6.728|14.68|2.9|171200000|4|3|7|\n",
        "|SE|1.302276|-422548384|buy|4662798|283.88135|250.36|14.041|2.492|250.83|1.6|-1253025024|3|3|6|\n",
        "|PLTK| |476837504|buy|333787|25.630976|16.8|-1.24|2.2|16.84|1.6|716000000|3|1|4|\n",
        "\n",
        "Then I put a filter on it and sorted by recommendationMean and then Total to get a nice ordered list and grabbed the top 2 to invest in this week."
      ]
    },
    {
      "cell_type": "markdown",
      "metadata": {
        "id": "bg0nCevCDiVA"
      },
      "source": [
        "Again used the position sizing calculator to see how much to invest so I dont lose too much."
      ]
    },
    {
      "cell_type": "markdown",
      "metadata": {
        "id": "3PXf9xtLDsnL"
      },
      "source": [
        "###Position Sizing Calculator:\n",
        "|Capital|Risk|Buyprice|Stop Loss Val|Risk Dollars|# of Shares|Ticker|\n",
        "|-|-|-|-|-|-|-|\n",
        "|242,676.92|0.4%|119.5|118|970.70768|647.1384533|SONY|\n",
        "| | |6.1|5|970.70768|882.4615273|ZNGA|\n"
      ]
    },
    {
      "cell_type": "markdown",
      "metadata": {
        "id": "4RqQ9e2-EEEn"
      },
      "source": [
        "With that all together my current investments are:\n",
        "\n",
        "SE - 59 with total value: $14,870.07\n",
        "\n",
        "SONY - 1147 with total value: $137,410.60\n",
        "\n",
        "ZNGA - 882 with total value: $5,322.87\n",
        "\n",
        "and total spending power at $164,670.71\n",
        "\n",
        "*Lets hope this works out...*"
      ]
    }
  ]
}