{
  "nbformat": 4,
  "nbformat_minor": 0,
  "metadata": {
    "colab": {
      "name": "Ethan Melero Week 2.ipynb",
      "provenance": [],
      "collapsed_sections": []
    },
    "kernelspec": {
      "name": "python3",
      "display_name": "Python 3"
    },
    "language_info": {
      "name": "python"
    }
  },
  "cells": [
    {
      "cell_type": "markdown",
      "metadata": {
        "id": "4E5XtsG7s-DQ"
      },
      "source": [
        "#Stock Exchange Week 2\n",
        "After studying a little on how to visually read the stock graphs and their candles and such I was able to pick out some interesting and potentially good buys (LOGI, SE, SONY, and TTWO). They were all found in my research on interesting stocks that appear in the gaming industry.\n",
        "What I found visually about each one.\n",
        "\n",
        "**LOGI**: logitech\n",
        "  - below 200MA\n",
        "  - Area of Value\n",
        "  - Entry Trigger: Bullish\n",
        "  - Volume is up\n",
        "\n",
        "**SE**: sea limited\n",
        "  - above 200MA\n",
        "  - Area of Value\n",
        "  - Entry Trigger: hammer\n",
        "  - Declining Volume\n",
        "  \n",
        "**SONY**: sony (best to do yesterday)\n",
        "  - above 200MA\n",
        "  - Area of Value\n",
        "  - Entry Trigger: Hammer\n",
        "  - Declining Volume\n",
        "\n",
        "**TTWO**: take-two interactive\n",
        "  - below 200MA\n",
        "  - Bullish Engulfing\n",
        "  - Area of Value\n",
        "  - Declining Volume \n",
        "\n",
        "\n",
        "These observations kind of left me at an impass, these all had there attributes telling me to buy but also there cons telling me not to. So, I obviously needed more information. Using Yahoo Finance I gathered up some more information to help make my 3 trade decisions for this week.\n"
      ]
    },
    {
      "cell_type": "code",
      "metadata": {
        "id": "D4PW6auVRr8L"
      },
      "source": [
        "!pip install yfinance"
      ],
      "execution_count": null,
      "outputs": []
    },
    {
      "cell_type": "markdown",
      "metadata": {
        "id": "l4Ec14rswn6s"
      },
      "source": [
        "Firstly, I started compiling together a big list object of lists holding all the possible info yfinance would give me about these 4 different stocks."
      ]
    },
    {
      "cell_type": "code",
      "metadata": {
        "id": "cKya_sE-Uj06"
      },
      "source": [
        "import yfinance as yf\n",
        "\n",
        "tickerStrings = ['LOGI', 'SE', 'SONY', 'TTWO']\n",
        "\n",
        "df_list = list()\n",
        "for ticker in tickerStrings:\n",
        "    temp = yf.Ticker(ticker)\n",
        "    data = temp.info\n",
        "    data['ticker'] = ticker\n",
        "    df_list.append(data)"
      ],
      "execution_count": 61,
      "outputs": []
    },
    {
      "cell_type": "markdown",
      "metadata": {
        "id": "vZWYu-R1w5x9"
      },
      "source": [
        "Then using the info list i filtered it only grabbing some data I thought would be the most impactful to my decision. \n",
        "- **Beta**: this value is based on the S&P 500 and rates how volatile it is\n",
        "  - higher than 1 is typically more volatile/risky\n",
        "- **FCF**: looking at the free cash flow helps see if this company is risky or not\n",
        "  - if its a negative value they are dealing with more debts then revenues\n",
        "- **RecommendationKey and Mean**: these values were very nice tie breakers as they are just a simple recommendation of buy or sell, with the mean being a value between 1-5 where 1 is buy and 5 is sell.\n",
        "- **Volume**: though volume was included it ended up being more useful to look at the volume occilator on Investopedia as it would be a better tell of the current markets momentum\n",
        "- **Ask and the 200MA**: I used these values to have a simple measure of whether the current asking price of above the 200MA as this is typically a sign of a positive trend (though looking at the graph affirms this)\n",
        "- **Book Value & Current Ratio**: is just a measure of the (total assets - total liabilites), I used gauge the riskiness of the company as a lower value would mean they have more liabilites (though this may require more research as to whether this is actually a bad thing). Current Ratio is also a measure of risk as it is the (Total Assets/Total Liabilities)\n",
        "- **Current Price**: This was also a little side value to compare to the current ask and hopefully gleam what the markets intentions are beyond what can be seen on the graph"
      ]
    },
    {
      "cell_type": "code",
      "metadata": {
        "id": "XQJFM4NTVNxd"
      },
      "source": [
        "data = list()\n",
        "\n",
        "for i, page in enumerate(df_list):\n",
        "  d = list()\n",
        "  d.append(page['ticker'])\n",
        "  d.append(page['beta'])\n",
        "  d.append(page['freeCashflow'])\n",
        "  d.append(page['recommendationKey'])\n",
        "  d.append(page['volume'])\n",
        "  d.append(page['twoHundredDayAverage'])\n",
        "  d.append(page['ask'])\n",
        "  d.append(page['bookValue'])\n",
        "  d.append(page['currentRatio'])\n",
        "  d.append(page['currentPrice'])\n",
        "  d.append(page['recommendationMean'])\n",
        "  data.append(d)\n",
        "\n",
        "print(data)"
      ],
      "execution_count": null,
      "outputs": []
    },
    {
      "cell_type": "markdown",
      "metadata": {
        "id": "gszV8rIT1ERw"
      },
      "source": [
        "Finally, this was printed into a CSV document so i could take a closer, more personal look."
      ]
    },
    {
      "cell_type": "code",
      "metadata": {
        "id": "3gNgej6sUCYw"
      },
      "source": [
        "details = ['ticker', 'beta', 'freeCashflow', 'recommendationKey', 'volume', 'twoHundredDayAverage', 'ask', 'bookValue', 'currentRatio', 'currentPrice', 'recommendationMean']\n",
        "with open('mycsvfile.csv','w') as f:\n",
        "    w = csv.writer(f)\n",
        "    w.writerow(details)\n",
        "    w.writerows(data)"
      ],
      "execution_count": 82,
      "outputs": []
    },
    {
      "cell_type": "markdown",
      "metadata": {
        "id": "NkIo5rPd2ajO"
      },
      "source": [
        "![image.png](data:image/png;base64,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)"
      ]
    },
    {
      "cell_type": "markdown",
      "metadata": {
        "id": "fOmZudlO2g5g"
      },
      "source": [
        "This was the resulting table generated from the yfinance pulls, though small it was used to help me come to my decision of what stocks I would be trading. \n",
        "\n",
        "To make this even easier I added a new column to the table called the `decision factor`. This factor was a culmination of data in the table and my minimal understanding of there meaning and about stock trading but none-the-less..."
      ]
    },
    {
      "cell_type": "markdown",
      "metadata": {
        "id": "QpvhvNpr3L2f"
      },
      "source": [
        "![image.png](data:image/png;base64,iVBORw0KGgoAAAANSUhEUgAAAGMAAABlCAYAAABZYl2IAAAEu0lEQVR4nO2dPXKrSBSFD1NeiniBrBU0K5CcTKTUGYQimWxCZ04glJbw8gcrECvACtzspScQiG6EhN6M3LpTPl8VVTb0z20O3Rdx0VVQ17UBEcETADw/Pz/ajm/Px8cH/ni0EaSHYgiCYgiCYghiWowyQRDlaDwY893xNjPKJLhJ1FvL/Va/gbsl5b9vr8kjBP+lgSs8fUmrIyy3Brd8oLm13O+gMo39ZnbnVu/P+cxockSnqyhC/nlWAHlkX2kJyov1+6uwTALnimryyGojQt6Ml7ve3/FYUpZIRtqa5IKt48eOfYVpBexWCIIA0amjazaWSIIIeZ6Mny+buq5NjzaZglGZbv8vTAwYqMyc9sQwiIu+Rqas48fyTv32mFNPZ0YhNn0rPW77R3vO+jvVbY9Dma7LoX1FbNvj9HSy7XfGoTPltD9tY3sOL4y3o65r44oxdpKKuDdSZ0ZZAz8Z2u0r4oudnosBE48UnBbN6q89EU47tr1de7C3CyfF7uvKOM7EmLTxKMbYWG3qujbuMqUPqCbndoU0tKfkCjv7sJojnGpitsFeZ6hXwWC6Dxi1J8RcVTjoSUN7kzINY0y7bbFs9ztLZZi6fd0yjjvaCAx9RjiHmqwSozgNrNv2OPnH6oCbbJhtsDcGxhRYpOH4Hc6oPRqHSmF+05m6QpkgTBf9WHTm9nXrOO5ooyvG7AcW2OGtu1KbHNHKuu5nL1gr6/iQ5Z+I7fookUzepoaYX7oC2v5WjuN/w06t8XLnm6Py3ZoZU+OoP/u/72mj68DNaT1Ht77qzChrDe6dprXZx536FxxrEbv1Bw7XdZCdAxzp60afMe7AXX+isszE9tp/YRz2/rMbnVEbb/cZQV3Xho/QHw8foQuDYgiCYgjiCTiuV+TxMAYuBDpwYVAMQVAMQVAMQVAMQVAMT7iRzfFoH8XwQon3n2vo9nF9EbtPeTsohheW2O436J6oh3PlPoZvoRjeKfGeVlDrFwzDHd5e1fn2lAmCLlAXFzAjrw5xZvhiuT2FqfX8bdSJU4wHMHtZQ6HG58BpUAwfNDkiO0b+6ycqLPBjsFLRZ/hg9oJ1HSIIuh0Kme5fGeqgGF6YYbM32EyU4jIlCIohCIohCMbABcEYuBAYAxcGxRAExRAExRAExRAExfCEGwMf/y46xfBBk+PVioHrTGG3YjzjMcw22FsxcMYzJKEPjGfIoEH+toPKNOMZj6ZMQqTIoPlCwmMpkwCrOoO2/IcNxfDCMdHLNSEAiuGH8h1pBaBKEdq5rwYfNugzfLDcwpjtZDHODEFQDEFQDEEwBi4IxsCFwBi4MCiGICiGICiGICiGICiGZ7rc7GPpYymGT8oEqzpGfCFbKcXwxjHCF//9F+YXSlAMTzT5K9JFge0w1mrBR+g+aHK8pgsUZglcSblMMb6cBvlrikVhzl5AGMJl6svROFTAbtVF+EKkFVCl4dkv6FCML2eJrZPEXyNT7S8XDOLhFEMQ9BneufydcM4MQVAMQVAMQTAGLgjGwIXAGLgwKIYgKIYgKIYgKIYgKIYnmAtdDMyFLgjmQhcKc6E/HuZCFwRzocuEuUMeCXOhC4K50CXBXOj/OyiGICiGIBgDF8Q/KIs4jIvb29YAAAAASUVORK5CYII=)"
      ]
    },
    {
      "cell_type": "markdown",
      "metadata": {
        "id": "vcqWQhoZ3PtP"
      },
      "source": [
        "The decision factor portion was generated from the beta, FCF, ask, 200MA, & bookVal values. They were all just cumulative if-then values based on my current understanding of there meaning (as I guarentee can be improved)\n",
        "\n",
        "###Decision Factor:\n",
        "**Beta**: If beta is greater or equal to 1: add 1\n",
        "- This is because it presumably means it is less risky or fluxuates about the market like normal\n",
        "\n",
        "**FCF**: If FCF if greater than 0: add 1\n",
        "- This is being used as a measure of risk to see how much they may be in debts, hence the positive telling us its safer\n",
        "\n",
        "**(ask - 200MA)**: If this difference is greater than 0: add 1\n",
        "- This difference would typically dictate that the current trend of this stock is a positive one as its currently above this average\n",
        "\n",
        "**bookVal**: If this is greater than 1: add 1\n",
        "- This is used similarly to the FCF value where if its over 1 than the its safer to get than one thats below 0.\n",
        "\n",
        "This, together with the observations helped me decide which stocks to invest in by giving them a rank, the higher the number the higher priority to invest is.\n",
        "\n",
        "The ranking ended as such:\n",
        "- **SONY**: 7\n",
        "- **LOGI**: 6\n",
        "- **SE**: 5\n",
        "- **TTWO**: 5\n",
        "\n",
        "Well crap, now I have to some how break the tie between SE and TTWO. luckily this is where the currentRatio value comes in handy as the lower it is the higher the recommendation to buy there is. With SE @ 1.6 and TTWO @ 2.1 the choice was clear. The line up for my 3 trades is SONY, LOGI, and SE.\n",
        "\n",
        "Great! Well now I actually have to do it...\n",
        "Luckily this is made a little easier with some simple risk assesment and some calculations (specifically a position sizing calculator)"
      ]
    },
    {
      "cell_type": "markdown",
      "metadata": {
        "id": "rAKYQmR28yy8"
      },
      "source": [
        "###Posiition Sizing Calculator:\n",
        "|Capital|Risk|Buyprice|Stop Loss Val|Risk Dollars|# of Shares|Ticker|\n",
        "|-|-|-|-|-|-|-|\n",
        "|250000|0.8%|122|120|2000|1000|SONY|\n",
        "| | |85|83|2000|1000|LOGI|\n",
        "| | |297|280|2000|118|SE|\n"
      ]
    },
    {
      "cell_type": "markdown",
      "metadata": {
        "id": "-IkdiU439UcV"
      },
      "source": [
        "Followed some info I learned in my research and created my own calculator to get an idea of how many shares I should purchase to keep risk at a minimum as this is still in a very experimental phase.\n",
        "\n",
        "So, working with a risk of 0.8% and some ideas of a buy price and some stop loss values (even though the simulator doesnt let us by stop loss shares...) I can gleam an idea of how much to buy of each.\n",
        "\n",
        "Though I'm really never satisfied so I compared with my peers as to how much the poeple leading the class are purchasing and ended up halving these numbers as it felt safer (even though therer really isnt any risk here as its all just fake money).\n",
        "\n",
        "###Wrapping this up:\n",
        "In the end (regardless of outcome) I tried my best to apply not only what I had learned in my research of stock trading but also utilized a bit of data analysis to help firm up the decisions and minimize risk (hopefully)"
      ]
    }
  ]
}